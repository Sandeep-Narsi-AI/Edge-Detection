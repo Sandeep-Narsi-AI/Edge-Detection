{
 "cells": [
  {
   "cell_type": "code",
   "execution_count": 1,
   "id": "f4c28600",
   "metadata": {},
   "outputs": [],
   "source": [
    "# Import the packages\n",
    "\n",
    "import numpy as np\n",
    "import cv2\n",
    "import matplotlib.pyplot as plt"
   ]
  },
  {
   "cell_type": "code",
   "execution_count": 2,
   "id": "bae0483e",
   "metadata": {},
   "outputs": [],
   "source": [
    "# Load the image, Convert to grayscale and remove noise\n",
    "\n",
    "i=cv2.imread('spidy1.png',-1)\n",
    "gray=cv2.cvtColor(i,cv2.COLOR_BGR2GRAY)\n",
    "img = cv2.GaussianBlur(gray,(3,3),0)"
   ]
  },
  {
   "cell_type": "code",
   "execution_count": 3,
   "id": "767ac7dc",
   "metadata": {},
   "outputs": [],
   "source": [
    "# SOBEL EDGE DETECTOR AND TO SHOW THE DETECTED IMAGE\n",
    "\n",
    "sobel_x=cv2.Sobel(img,cv2.CV_64F,1,0,ksize=5)\n",
    "cv2.imshow('sobel_x',sobel_x)\n",
    "cv2.waitKey(0)\n",
    "cv2.destroyAllWindows()"
   ]
  },
  {
   "cell_type": "code",
   "execution_count": 4,
   "id": "f332a3f8",
   "metadata": {},
   "outputs": [],
   "source": [
    "sobel_y=cv2.Sobel(img,cv2.CV_64F,0,1,ksize=5)\n",
    "cv2.imshow('sobel_y',sobel_y)\n",
    "cv2.waitKey(0)\n",
    "cv2.destroyAllWindows()"
   ]
  },
  {
   "cell_type": "code",
   "execution_count": 7,
   "id": "3c1d2410",
   "metadata": {},
   "outputs": [],
   "source": [
    "sobel_xy=cv2.Sobel(img,cv2.CV_64F,1,1,ksize=5)\n",
    "cv2.imshow('sobel_xy',sobel_xy)\n",
    "cv2.waitKey(0)\n",
    "cv2.destroyAllWindows()"
   ]
  },
  {
   "cell_type": "code",
   "execution_count": null,
   "id": "9860dd44",
   "metadata": {},
   "outputs": [],
   "source": [
    "# LAPLACIAN EDGE DETECTOR AND TO SHOW THE DETECTED IMAGE\n",
    "\n",
    "rgb_image = cv2.cvtColor(i,cv2.COLOR_BGR2RGB)\n",
    "laplacian_operator = cv2.Laplacian(rgb_image,cv2.CV_64F)\n",
    "cv2.imshow('laplacian_operator',laplacian_operator)\n",
    "cv2.waitKey(0)\n",
    "cv2.destroyAllWindows()"
   ]
  },
  {
   "cell_type": "code",
   "execution_count": 6,
   "id": "8f2f2275",
   "metadata": {},
   "outputs": [],
   "source": [
    "# CANNY EDGE DETECTOR AND TO SHOW THE DETECTED IMAGE\n",
    "\n",
    "canny_edges = cv2.Canny(img, 120, 150)\n",
    "cv2.imshow('canny',canny_edges)\n",
    "cv2.waitKey(0)\n",
    "cv2.destroyAllWindows()"
   ]
  }
 ],
 "metadata": {
  "kernelspec": {
   "display_name": "Python 3 (ipykernel)",
   "language": "python",
   "name": "python3"
  },
  "language_info": {
   "codemirror_mode": {
    "name": "ipython",
    "version": 3
   },
   "file_extension": ".py",
   "mimetype": "text/x-python",
   "name": "python",
   "nbconvert_exporter": "python",
   "pygments_lexer": "ipython3",
   "version": "3.8.8"
  }
 },
 "nbformat": 4,
 "nbformat_minor": 5
}
